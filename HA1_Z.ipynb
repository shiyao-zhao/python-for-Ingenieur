{
 "cells": [
  {
   "cell_type": "markdown",
   "metadata": {},
   "source": [
    "# Hausaufgabe 1\n",
    "## Lärmbelastung am Arbeitsplatz\n",
    "<!-- Lizensiert unter (CC BY 2.0) Gert Herold, 2019 -->\n",
    "\n",
    "Für die Beurteilung der tagsüber auftretenden Lärmbelastung in einem Gewerbegebiet wurden über mehrere Monate an Werktagen der Mittelungspegel $L_\\text{A,eq}$ an einem Immissionsort bestimmt.\n"
   ]
  },
  {
   "cell_type": "code",
   "execution_count": 1,
   "metadata": {},
   "outputs": [],
   "source": [
    "LAeq = {'Januar': [65.6473, 63.6885, 63.3891, 66.0919, 64.1625, 66.4128, 61.4494, 50.8258, 68.1941, 73.9349, 65.2068, \n",
    "                   62.4992, 62.3178, 62.4047, 63.087, 57.3899, 60.4145, 58.0149, 64.244, 61.5168, 65.4761, 62.1265], \n",
    "        'Februar': [67.9317, 64.0677, 73.9535, 53.5182, 59.7654, 67.5074, 75.6416, 61.7568, 63.2183, 61.8684, \n",
    "                    69.6573, 61.5635, 66.4003, 61.401, 56.6372, 64.5677, 65.5159, 69.4661, 62.4478, 59.9132], \n",
    "        'März': [65.8138, 64.2037, 64.4033, 62.6344, 68.8017, 64.8475, 72.5233, 68.5553, 66.2952, 54.8628, \n",
    "                 66.0116, 65.1014, 67.0548, 68.2222, 60.9956, 67.12, 60.1885, 72.7744, 56.3402, 54.1966], \n",
    "        'April': [54.7464, 58.5472, 57.4044, 72.7804, 61.3675, 56.2866, 68.5719, 60.0674, 56.8157, 67.3792, \n",
    "                  66.1168, 60.8252, 70.0377, 63.6455, 71.0847, 65.5137, 70.794, 63.547, 56.9013, 75.2468], \n",
    "        'Mai': [60.2711, 62.0058, 59.498, 61.983, 64.2133, 64.0092, 66.3051, 71.9608, 62.3977, 56.8344, 57.0884, \n",
    "                59.6712, 54.629, 67.1251, 60.5089, 61.4451, 62.9905, 56.0169, 58.6934, 66.3736, 66.0927], \n",
    "        'Juni': [60.7841, 72.0527, 56.4714, 61.2751, 61.8458, 49.0346, 72.6876, 64.8317, 57.7771, 73.2559, \n",
    "                 65.9283, 65.1476, 59.965, 63.5311, 55.3716, 66.9751, 61.1278, 63.6702, 69.0103]}"
   ]
  },
  {
   "cell_type": "code",
   "execution_count": 11,
   "metadata": {
    "scrolled": true
   },
   "outputs": [
    {
     "name": "stdout",
     "output_type": "stream",
     "text": [
      "<class 'str'>\n",
      "<class 'str'>\n"
     ]
    }
   ],
   "source": [
    "print(type('Mai'))\n",
    "print(type('Mai'[0]))\n",
    "#LAeq.keys(),LAeq.values()"
   ]
  },
  {
   "cell_type": "code",
   "execution_count": 2,
   "metadata": {},
   "outputs": [
    {
     "name": "stdout",
     "output_type": "stream",
     "text": [
      "Im Januar wurde ein maximaler Mittelungspegel von 73.9 dB gemessen.\n",
      "Im Februar wurde ein maximaler Mittelungspegel von 75.6 dB gemessen.\n",
      "Im März wurde ein maximaler Mittelungspegel von 72.8 dB gemessen.\n",
      "Im April wurde ein maximaler Mittelungspegel von 75.2 dB gemessen.\n",
      "Im Mai wurde ein maximaler Mittelungspegel von 72.0 dB gemessen.\n",
      "Im Juni wurde ein maximaler Mittelungspegel von 73.3 dB gemessen.\n"
     ]
    }
   ],
   "source": [
    "for i,j in LAeq.items():\n",
    "    a=max(j)\n",
    "    print(\"Im {} wurde ein maximaler Mittelungspegel von {:.1f} dB gemessen.\".format(i,a))\n",
    "    "
   ]
  },
  {
   "cell_type": "markdown",
   "metadata": {},
   "source": [
    "**1. Geben Sie für jeden Monat den jeweils höchsten Pegel mit einer Nachkommastelle als Fließtext an.**\n",
    " \n",
    "Beispiel:\n",
    "\n",
    "    Im August wurde ein maximaler Mittelungspegel von 75.2 dB gemessen.\n",
    "    \n",
    "*(Für einen Hinweis zur Textformatierung unter Python den ausgeblendeten Abschnitt öffnen)*"
   ]
  },
  {
   "cell_type": "code",
   "execution_count": 26,
   "metadata": {},
   "outputs": [
    {
     "name": "stdout",
     "output_type": "stream",
     "text": [
      "Im Januar wurde ein maximaler Mittelungspegel von 73.3 dB gemessen.\n",
      "Im Februar wurde ein maximaler Mittelungspegel von 73.3 dB gemessen.\n",
      "Im März wurde ein maximaler Mittelungspegel von 73.3 dB gemessen.\n",
      "Im April wurde ein maximaler Mittelungspegel von 73.3 dB gemessen.\n",
      "Im Mai wurde ein maximaler Mittelungspegel von 73.3 dB gemessen.\n",
      "Im Juni wurde ein maximaler Mittelungspegel von 73.3 dB gemessen.\n"
     ]
    }
   ],
   "source": [
    "for A in LAeq.keys():\n",
    "    for a in LAeq.values():\n",
    "        a_max=max(a)\n",
    "    print('Im %s wurde ein maximaler Mittelungspegel von %.1f dB gemessen.'%(A,a_max))"
   ]
  },
  {
   "cell_type": "code",
   "execution_count": 3,
   "metadata": {
    "jupyter": {
     "source_hidden": true
    },
    "scrolled": true
   },
   "outputs": [
    {
     "name": "stdout",
     "output_type": "stream",
     "text": [
      "0001: Eine Minute hat 60 Sekunden. Das sind   0.0167 Stunden. Eine Sekunde entspricht demnach 0.000278 Stunden.\n",
      "0002: Eine Minute hat 60 Sekunden. Das sind   0.0167 Stunden. Eine Sekunde entspricht demnach 0.000278 Stunden.\n",
      "0003: Eine Minute hat 60 Sekunden. Das sind   0.0167 Stunden. Eine Sekunde entspricht demnach 0.000278 Stunden.\n"
     ]
    }
   ],
   "source": [
    "#Hinweis: Zeichketten in Python mit formatierenden Platzhaltern -- verschiedene Wege zum gleichen Ziel\n",
    "s = 'Sekunde'\n",
    "m = 'Minute'\n",
    "h = 'Stunde'\n",
    "s_per_m = 60\n",
    "h_per_m = 1/60\n",
    "\n",
    "print('%04d: Eine %s hat %d %sn. Das sind %8.4f %sn. Eine %s entspricht demnach %.6f %sn.' % (1, m, s_per_m, s, h_per_m, h, s, h_per_m/s_per_m, h))\n",
    "print('{:04d}: Eine {} hat {} {}n. Das sind {:8.4f} {}n. Eine {} entspricht demnach {:.6f} {}n.'.format(2, m, s_per_m, s, h_per_m, h, s, h_per_m/s_per_m, h))\n",
    "print(f'{3:04d}: Eine {m} hat {s_per_m} {s}n. Das sind {h_per_m:8.4f} {h}n. Eine {s} entspricht demnach {h_per_m/s_per_m:.6f} {h}n.')"
   ]
  },
  {
   "cell_type": "code",
   "execution_count": 4,
   "metadata": {},
   "outputs": [
    {
     "name": "stdout",
     "output_type": "stream",
     "text": [
      "im Januar wurde ein maximaler mittelungspegel von 73.9 dB gemessen.\n",
      "im Februar wurde ein maximaler mittelungspegel von 75.6 dB gemessen.\n",
      "im März wurde ein maximaler mittelungspegel von 72.8 dB gemessen.\n",
      "im April wurde ein maximaler mittelungspegel von 75.2 dB gemessen.\n",
      "im Mai wurde ein maximaler mittelungspegel von 72.0 dB gemessen.\n",
      "im Juni wurde ein maximaler mittelungspegel von 73.3 dB gemessen.\n"
     ]
    }
   ],
   "source": [
    "for A,a in LAeq.items():\n",
    "    a_max=max(a)\n",
    "    print('im {} wurde ein maximaler mittelungspegel von {:.1f} dB gemessen.' .format(A,a_max) )\n",
    "    "
   ]
  },
  {
   "cell_type": "markdown",
   "metadata": {},
   "source": [
    "**2. Berechnen Sie für jeden Monat die Anzahl der Tage, an denen der zulässige Richtwert von 65 dB überschritten wurde und berechnen Sie deren prozentualen Anteil an der Gesamtzahl der Werktage im jeweiligen Monat.**\n",
    "\n",
    "Beispiel:\n",
    "\n",
    "    Juli    :  6 Tage (26.1 %)\n",
    "    August  :  9 Tage (40.9 %)\n",
    "\n",
    "<!-- Werktage Juli:23, August: 22 -->"
   ]
  },
  {
   "cell_type": "code",
   "execution_count": 11,
   "metadata": {},
   "outputs": [
    {
     "ename": "ValueError",
     "evalue": "Invalid format specifier",
     "output_type": "error",
     "traceback": [
      "\u001b[0;31m---------------------------------------------------------------------------\u001b[0m",
      "\u001b[0;31mValueError\u001b[0m                                Traceback (most recent call last)",
      "\u001b[0;32m<ipython-input-11-743e593d26d5>\u001b[0m in \u001b[0;36m<module>\u001b[0;34m\u001b[0m\n\u001b[1;32m      5\u001b[0m         \u001b[0;32mif\u001b[0m \u001b[0mj\u001b[0m\u001b[0;34m>\u001b[0m\u001b[0;36m65\u001b[0m\u001b[0;34m:\u001b[0m\u001b[0;34m\u001b[0m\u001b[0;34m\u001b[0m\u001b[0m\n\u001b[1;32m      6\u001b[0m             \u001b[0mn\u001b[0m\u001b[0;34m+=\u001b[0m\u001b[0;36m1\u001b[0m\u001b[0;34m\u001b[0m\u001b[0;34m\u001b[0m\u001b[0m\n\u001b[0;32m----> 7\u001b[0;31m     \u001b[0mprint\u001b[0m\u001b[0;34m(\u001b[0m\u001b[0;34m\"{}:{} tage({:.1f%%})\"\u001b[0m\u001b[0;34m.\u001b[0m\u001b[0mformat\u001b[0m\u001b[0;34m(\u001b[0m\u001b[0mi\u001b[0m\u001b[0;34m,\u001b[0m\u001b[0mn\u001b[0m\u001b[0;34m,\u001b[0m\u001b[0mn\u001b[0m\u001b[0;34m*\u001b[0m\u001b[0;36m100\u001b[0m\u001b[0;34m/\u001b[0m\u001b[0mm\u001b[0m\u001b[0;34m)\u001b[0m\u001b[0;34m)\u001b[0m\u001b[0;34m\u001b[0m\u001b[0;34m\u001b[0m\u001b[0m\n\u001b[0m",
      "\u001b[0;31mValueError\u001b[0m: Invalid format specifier"
     ]
    }
   ],
   "source": [
    "n=0\n",
    "for a,b in LAeq.items():\n",
    "    m=len(b)\n",
    "    for j in b:\n",
    "        if j>65:\n",
    "            n+=1\n",
    "    print(\"{}:{} tage({:.1f%%})\".format(i,n,n*100/m))"
   ]
  },
  {
   "cell_type": "code",
   "execution_count": 12,
   "metadata": {},
   "outputs": [
    {
     "name": "stdout",
     "output_type": "stream",
     "text": [
      "Januar:7 Tage(31.8%)\n",
      "Februar:8 Tage(40.0%)\n",
      "März:11 Tage(55.0%)\n",
      "April:9 Tage(45.0%)\n",
      "Mai:5 Tage(23.8%)\n",
      "Juni:7 Tage(36.8%)\n"
     ]
    }
   ],
   "source": [
    "for A,a in LAeq.items():\n",
    "    n=0\n",
    "    m=len(a)\n",
    "    for i in a:\n",
    "         if i>65:\n",
    "                n+=1\n",
    "    print(\"%s:%s Tage(%.1f%%)\"%(A,n,n*100/m))"
   ]
  },
  {
   "cell_type": "code",
   "execution_count": 14,
   "metadata": {},
   "outputs": [
    {
     "name": "stdout",
     "output_type": "stream",
     "text": [
      "Januar:7 Tage(31.8%)\n",
      "Februar:8 Tage(40.0%)\n",
      "März:11 Tage(55.0%)\n",
      "April:9 Tage(45.0%)\n",
      "Mai:5 Tage(23.8%)\n",
      "Juni:7 Tage(36.8%)\n"
     ]
    }
   ],
   "source": [
    "for A,a in LAeq.items():\n",
    "    z=0\n",
    "    n=len(a)\n",
    "    for j in a:\n",
    "        if j>65:\n",
    "            z=z+1\n",
    "         \n",
    "            \n",
    "    print('%s:%d Tage(%.1f%%)' %(A,z,(100*z/n)))"
   ]
  },
  {
   "cell_type": "code",
   "execution_count": 6,
   "metadata": {
    "scrolled": false
   },
   "outputs": [
    {
     "name": "stdout",
     "output_type": "stream",
     "text": [
      "Januar:7 Tage(31.8%)\n",
      "Februar:8 Tage(40.0%)\n",
      "März:11 Tage(55.0%)\n",
      "April:9 Tage(45.0%)\n",
      "Mai:5 Tage(23.8%)\n",
      "Juni:7 Tage(36.8%)\n"
     ]
    }
   ],
   "source": [
    "def tage():\n",
    "    for A,a in LAeq.items():\n",
    "        z=0\n",
    "        for x in a:\n",
    "            if x>65:\n",
    "                z=z+1\n",
    "                n=len(a)\n",
    "        print('%s:%d Tage(%.1f%%)' %(A,z,(100*z/n)))\n",
    "    return\n",
    "\n",
    "tage()\n",
    "\n",
    "#print('%s:%d Tage(%.1f%%)' %(A,z,(100*z/n)))"
   ]
  },
  {
   "cell_type": "markdown",
   "metadata": {},
   "source": [
    "**3. Durch intensive Lärmminderungsmaßnahmen könnte der Pegel um durchschnittlich 6 dB gesenkt werden. Schätzen Sie basierend auf den gegebenen Werten ab, wie viele (Werk-)Tage im Jahr es noch immer zu Richtwertüberschreitungen kommen würde. Wie sieht es bei 7 dB durchschnittlicher Pegelverringerung aus?**"
   ]
  },
  {
   "cell_type": "code",
   "execution_count": 29,
   "metadata": {},
   "outputs": [
    {
     "name": "stdout",
     "output_type": "stream",
     "text": [
      "Januar:1 Tage(4.5%)\n",
      "Februar:2 Tage(10.0%)\n",
      "März:2 Tage(10.0%)\n",
      "April:3 Tage(15.0%)\n",
      "Mai:1 Tage(4.8%)\n",
      "Juni:3 Tage(15.8%)\n"
     ]
    }
   ],
   "source": [
    "for A,a in LAeq.items():\n",
    "    z=0\n",
    "    n=len(a)\n",
    "    for j in a:\n",
    "        if (j-6)>65:\n",
    "            z=z+1\n",
    "            \n",
    "           \n",
    "    print('%s:%d Tage(%.1f%%)' %(A,z,(100*z/n)))"
   ]
  },
  {
   "cell_type": "code",
   "execution_count": 30,
   "metadata": {},
   "outputs": [
    {
     "name": "stdout",
     "output_type": "stream",
     "text": [
      "Es würde noch immer 24 Tage im Jahr zu Richtwertüberschreitungen kommen \n"
     ]
    }
   ],
   "source": [
    "z=0\n",
    "def tage(z):\n",
    "    for A,a in LAeq.items():\n",
    "        #n=len(a)\n",
    "        for x in a:\n",
    "            if (x-6)>65:\n",
    "                z=z+1\n",
    "    return z\n",
    "\n",
    "t=tage(z)*2\n",
    "\n",
    "print('Es würde noch immer %s Tage im Jahr zu Richtwertüberschreitungen kommen ' %t)\n",
    "#print(tage(z)*2)"
   ]
  },
  {
   "cell_type": "code",
   "execution_count": 10,
   "metadata": {},
   "outputs": [
    {
     "name": "stdout",
     "output_type": "stream",
     "text": [
      "Es würde noch immer 20 Tage im Jahr zu Richtwertüberschreitungen kommen \n"
     ]
    }
   ],
   "source": [
    "# Hier eigenen Code schreiben ...\n",
    "z=0\n",
    "def tage(z):\n",
    "    for A,a in LAeq.items():\n",
    "        #n=len(a)\n",
    "        for x in a:\n",
    "            if (x-7)>65:\n",
    "                z=z+1\n",
    "    return z\n",
    "\n",
    "t_1=tage(z)*2\n",
    "print('Es würde noch immer %s Tage im Jahr zu Richtwertüberschreitungen kommen ' %t_1)\n",
    "#print(tage(z)*2)\n",
    "\n"
   ]
  },
  {
   "cell_type": "code",
   "execution_count": null,
   "metadata": {},
   "outputs": [],
   "source": []
  }
 ],
 "metadata": {
  "kernelspec": {
   "display_name": "Python 3",
   "language": "python",
   "name": "python3"
  },
  "language_info": {
   "codemirror_mode": {
    "name": "ipython",
    "version": 3
   },
   "file_extension": ".py",
   "mimetype": "text/x-python",
   "name": "python",
   "nbconvert_exporter": "python",
   "pygments_lexer": "ipython3",
   "version": "3.7.3"
  }
 },
 "nbformat": 4,
 "nbformat_minor": 4
}
