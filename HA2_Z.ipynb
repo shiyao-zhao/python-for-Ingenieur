{
 "cells": [
  {
   "cell_type": "markdown",
   "metadata": {},
   "source": [
    "# Hausaufgabe 2\n",
    "## Ablassung eines Stausees\n",
    "<!-- Lizensiert unter (CC BY 2.0) Gert Herold, 2019 -->\n",
    "\n",
    "Wegen Reparaturarbeiten an der Staumauer einer Talsperre soll das Wasser abgelassen werden. Der See habe ein Fassungsvermögen von $215 \\cdot 10^6\\,\\text{m}^3$. Die Oberfläche des Stausees erstrecke sich über $10\\,\\text{km}^2$. Der Wasserauslass auf Grundhöhe habe einen Querschnitt von $2\\,\\text{m}^2$. Der Fluss selbst werde so umgeleitet, dass kein Wasser in den See nachfließen kann."
   ]
  },
  {
   "cell_type": "markdown",
   "metadata": {},
   "source": [
    "**1) Es werde angenommen, die Form des Sees lasse sich mit einem umgedrehten [Kegel](https://de.wikipedia.org/wiki/Kegel_(Geometrie)) annähern. Wie tief ist dann der See?** "
   ]
  },
  {
   "cell_type": "code",
   "execution_count": 1,
   "metadata": {},
   "outputs": [
    {
     "data": {
      "text/plain": [
       "64.5"
      ]
     },
     "execution_count": 1,
     "metadata": {},
     "output_type": "execute_result"
    }
   ],
   "source": [
    "A0=10**7 \n",
    "V0=215*10**6\n",
    "h1=3*V0/A0\n",
    "h1"
   ]
  },
  {
   "cell_type": "markdown",
   "metadata": {},
   "source": [
    "Vereinfachend werde angenommen, dass die sich ausbildende Strömung sich mithilfe der [Bernoulli-Gleichung](https://de.wikipedia.org/wiki/Bernoulli-Gleichung) beschreiben lasse:\n",
    "\n",
    "$$\n",
    "\\frac{u^2}{2}+\\frac{p}{\\rho}+g \\, z = \\text{const}\n",
    "$$\n",
    "\n",
    "Dabei beschreibt $u$ die Strömungsgeschwindigkeit des Fluids an einer beliebigen betrachteten Stelle, $p$ den hydrodynamischen Druck, $\\rho$ die Dichte und $z$ die Höhe. $g=9{,}81\\frac{\\text{m}}{\\text{s}^2}$ ist die Erdbeschleunigung. Werden nur die Seeoberfläche und der Ausfluss betrachtet, so kann der Druck $p$ ebenfalls als konstant angenommen werden, da er dem Umgebungsdruck entspricht. Ebenso wird die Dichte als konstant angenommen, und die obige Gleichung vereinfacht sich zu \n",
    "\n",
    "$$\n",
    "\\frac{u^2}{2}+g \\, z = \\text{const}\n",
    "$$\n",
    "\n",
    "bzw. für oben und unten:\n",
    "\n",
    "$$\n",
    "\\frac{u_\\text{oben}^2}{2}+g \\, z_\\text{oben} = \\frac{u_\\text{unten}^2}{2}+g \\, z_\\text{unten}\n",
    "$$"
   ]
  },
  {
   "cell_type": "markdown",
   "metadata": {},
   "source": [
    "**2) Berechnen Sie die sich anfangs ausbildende Strömungsgeschwindigkeit am Ausfluss $u_\\text{unten,0}$ sowie den Volumenstrom $\\dot{V_0}$ unter der Annahme, dass die Bewegung der Seeoberfläche vernachlässigbar ist.**"
   ]
  },
  {
   "cell_type": "code",
   "execution_count": 2,
   "metadata": {},
   "outputs": [
    {
     "name": "stdout",
     "output_type": "stream",
     "text": [
      "u_unter= 35.57372625969902\n"
     ]
    }
   ],
   "source": [
    "# Hier eigenen Code schreiben ...\n",
    "import numpy as np\n",
    "u_oben=0\n",
    "z_unter=0\n",
    "z_oben=h1\n",
    "g=9.81\n",
    "u_unter=np.sqrt(2*g*z_oben)\n",
    "print('u_unter=',u_unter)"
   ]
  },
  {
   "cell_type": "code",
   "execution_count": 3,
   "metadata": {},
   "outputs": [
    {
     "data": {
      "text/plain": [
       "71.14745251939804"
      ]
     },
     "execution_count": 3,
     "metadata": {},
     "output_type": "execute_result"
    }
   ],
   "source": [
    "A1=2\n",
    "Vol_0=u_unter*A1\n",
    "Vol_0"
   ]
  },
  {
   "cell_type": "markdown",
   "metadata": {},
   "source": [
    "Tipp: Um die Kreiszahl $\\pi$ unter Python verwenden zu können, muss man sie entweder selbst definieren oder z.B. aus dem [NumPy-Modul](https://numpy.org/) importieren. Für ein Beispiel den folgenden Code-Abschnitt öffnen."
   ]
  },
  {
   "cell_type": "code",
   "execution_count": 6,
   "metadata": {
    "jupyter": {
     "source_hidden": true
    }
   },
   "outputs": [
    {
     "name": "stdout",
     "output_type": "stream",
     "text": [
      "Radius: 1.78 km\n"
     ]
    }
   ],
   "source": [
    "# Importiere pi aus numpy\n",
    "from numpy import pi\n",
    "\n",
    "# Berechne den \"Radius\" der Seeoberfläche\n",
    "A0=10**7\n",
    "r0 = (A0/pi)**0.5\n",
    "print(f'Radius: {r0/1000:.2f} km')"
   ]
  },
  {
   "cell_type": "code",
   "execution_count": 7,
   "metadata": {
    "scrolled": true
   },
   "outputs": [
    {
     "name": "stdout",
     "output_type": "stream",
     "text": [
      "Radius: 1.78 km\n"
     ]
    }
   ],
   "source": [
    "from numpy import pi\n",
    "\n",
    "# Berechne den \"Radius\" der Seeoberfläche\n",
    "A0=10\n",
    "r0 = (A0/pi)**0.5\n",
    "print(f'Radius: {r0:.2f} km')"
   ]
  },
  {
   "cell_type": "markdown",
   "metadata": {},
   "source": [
    "**3) Schreiben Sie eine Funktion, die die Tiefe des \"Kegel\"-Sees allgemein abhängig von der enthaltenen Wassermenge bestimmt.**"
   ]
  },
  {
   "cell_type": "code",
   "execution_count": 9,
   "metadata": {},
   "outputs": [
    {
     "data": {
      "text/plain": [
       "5235.757314433688"
      ]
     },
     "execution_count": 9,
     "metadata": {},
     "output_type": "execute_result"
    }
   ],
   "source": [
    "def tiefe(V):\n",
    "    h=(3*V/(pi*(r0/h1)**2))**(1/3)\n",
    "    return h\n",
    "tiefe(115e6)"
   ]
  },
  {
   "cell_type": "code",
   "execution_count": 10,
   "metadata": {},
   "outputs": [
    {
     "data": {
      "text/plain": [
       "52.3575731443369"
      ]
     },
     "execution_count": 10,
     "metadata": {},
     "output_type": "execute_result"
    }
   ],
   "source": [
    "def tiefe(V):\n",
    "    h=((V/V0)*((h1)**3))**(1/3)\n",
    "    return h\n",
    "tiefe(115e6)"
   ]
  },
  {
   "cell_type": "markdown",
   "metadata": {},
   "source": [
    "**4) Schreiben Sie eine Funktion, die ausgehend von einem Startvolumen $V_0$ und einer gegebenen Zeitschrittweite $\\Delta t$ den diskreten Zeitverlauf der Wassertiefe $h(t)$ bis zur Leerung des Sees zurückgibt. Beachten Sie, dass sich auch der Volumenstrom zeitlich ändert.** *(Hinweis: Die Änderung des Volumens lässt sich annähernd über $V_{n+1}=V_n-\\dot{V_n} \\cdot \\Delta t$ beschreiben.)*"
   ]
  },
  {
   "cell_type": "code",
   "execution_count": 11,
   "metadata": {},
   "outputs": [],
   "source": [
    "def abfluss(V0, dt):\n",
    "    V0=215*10**6\n",
    "    g=9.8\n",
    "    A1=2\n",
    "    h1=64.5\n",
    "    V=V0\n",
    "    h_list=[h1]\n",
    "    #n=0\n",
    "    \n",
    "    while  V>0:\n",
    "        u=np.sqrt(2*g*h_list[-1])\n",
    "        Vol=A1*u\n",
    "        \n",
    "        V=(V-Vol*dt)\n",
    "        #n+=1\n",
    "        h_list.append(tiefe(V))\n",
    "   \n",
    "    n=len(h_list)\n",
    "    t_list=[i*dt for i in range(0,n)]\n",
    "    \n",
    "    return t_list, h_list\n"
   ]
  },
  {
   "cell_type": "markdown",
   "metadata": {},
   "source": [
    "**5) Wie lange dauert es, bis der Stausee komplett abgelassen wurde? Plotten Sie den Zeitverlauf der Wassertiefe bis zur Leerung für zwei Zeitschrittweiten:**\n",
    "  * $\\Delta t_1$ = 1 Minute\n",
    "  * $\\Delta t_2$ = 4 Tage\n",
    "\n",
    "**Diskutieren Sie Auffälligkeiten.**"
   ]
  },
  {
   "cell_type": "code",
   "execution_count": 12,
   "metadata": {},
   "outputs": [
    {
     "name": "stderr",
     "output_type": "stream",
     "text": [
      "/Users/shiyaozhao/anaconda3/lib/python3.7/site-packages/ipykernel_launcher.py:2: RuntimeWarning: invalid value encountered in double_scalars\n",
      "  \n"
     ]
    },
    {
     "data": {
      "image/png": "[encoded data removed]",
      "text/plain": [
       "<Figure size 432x288 with 1 Axes>"
      ]
     },
     "metadata": {
      "needs_background": "light"
     },
     "output_type": "display_data"
    }
   ],
   "source": [
    "%matplotlib inline\n",
    "from matplotlib.pyplot import plot, show\n",
    "\n",
    "det_t1=abfluss(215*10**6,60)\n",
    "plot(det_t1[0],det_t1[1])\n",
    "det_t2=abfluss(215*10**6,60*60*24*4)\n",
    "plot(det_t2[0],det_t2[1])\n",
    "\n",
    "\n",
    "show()\n"
   ]
  },
  {
   "cell_type": "markdown",
   "metadata": {},
   "source": [
    "**6) Wiederholen Sie Aufgabenteil 5) unter der Annahme, dass der See bei gleichem Volumen und gleicher Oberfläche annähernd durch einen *Zylinder* beschrieben wird. Vermeiden Sie soweit wie möglich redundanten Code.**"
   ]
  },
  {
   "cell_type": "code",
   "execution_count": 69,
   "metadata": {},
   "outputs": [
    {
     "name": "stdout",
     "output_type": "stream",
     "text": [
      "21.5\n"
     ]
    }
   ],
   "source": [
    "h = V0/A0\n",
    "print(h)"
   ]
  },
  {
   "cell_type": "code",
   "execution_count": 70,
   "metadata": {},
   "outputs": [],
   "source": [
    "def tiefe(V):\n",
    "    h = V/A0\n",
    "    return h\n"
   ]
  },
  {
   "cell_type": "code",
   "execution_count": 76,
   "metadata": {},
   "outputs": [],
   "source": [
    "def abfluss(V0, dt):\n",
    "    V0=215*10**6\n",
    "    g=9.8\n",
    "    A1=2\n",
    "    h1=21.5\n",
    "    V=[V0]\n",
    "    h_list=[h1]\n",
    "    \n",
    "    n=0\n",
    "    \n",
    "    while  V[n]>=0:\n",
    "        u=np.sqrt(2*g*tiefe(V[n]))\n",
    "        Vol=A1*u\n",
    "        \n",
    "        V.append(V[n]-Vol*dt)\n",
    "        \n",
    "        n+=1\n",
    "        h_list.append(tiefe(V[n]))\n",
    "   \n",
    "    n=len(h_list)\n",
    "    t_list=[i*dt for i in range(0,n)]\n",
    "    \n",
    "    #m=t_list[-1]\n",
    "    #mm=m/(60*60*24)\n",
    "    #print(mm)\n",
    "    return t_list, h_list"
   ]
  },
  {
   "cell_type": "code",
   "execution_count": 77,
   "metadata": {},
   "outputs": [
    {
     "data": {
      "image/png": "[encoded data removed]",
      "text/plain": [
       "<Figure size 432x288 with 1 Axes>"
      ]
     },
     "metadata": {
      "needs_background": "light"
     },
     "output_type": "display_data"
    }
   ],
   "source": [
    "det_t1=abfluss(215000000,60)\n",
    "plot(det_t1[0],det_t1[1])\n",
    "det_t2=abfluss(215000000,60*60*24*4)\n",
    "plot(det_t2[0],det_t2[1])\n",
    "show()"
   ]
  },
  {
   "cell_type": "code",
   "execution_count": null,
   "metadata": {},
   "outputs": [],
   "source": []
  },
  {
   "cell_type": "code",
   "execution_count": null,
   "metadata": {},
   "outputs": [],
   "source": []
  }
 ],
 "metadata": {
  "kernelspec": {
   "display_name": "Python 3",
   "language": "python",
   "name": "python3"
  },
  "language_info": {
   "codemirror_mode": {
    "name": "ipython",
    "version": 3
   },
   "file_extension": ".py",
   "mimetype": "text/x-python",
   "name": "python",
   "nbconvert_exporter": "python",
   "pygments_lexer": "ipython3",
   "version": "3.7.3"
  }
 },
 "nbformat": 4,
 "nbformat_minor": 4
}
